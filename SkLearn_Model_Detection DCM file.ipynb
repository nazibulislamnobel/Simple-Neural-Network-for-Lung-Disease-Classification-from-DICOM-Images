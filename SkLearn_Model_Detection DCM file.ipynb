{
  "cells": [
    {
      "cell_type": "code",
      "execution_count": null,
      "metadata": {
        "colab": {
          "base_uri": "https://localhost:8080/"
        },
        "id": "pMJrzI2dJeDK",
        "outputId": "321781e2-05cf-496f-ce5a-59ac2ad6be4b"
      },
      "outputs": [],
      "source": [
        "pip install pydicom"
      ]
    },
    {
      "cell_type": "code",
      "execution_count": null,
      "metadata": {
        "colab": {
          "base_uri": "https://localhost:8080/"
        },
        "id": "ZY-puzs5MqKG",
        "outputId": "5063874e-251c-4a45-9604-9ffee3c865e9"
      },
      "outputs": [],
      "source": [
        "import os\n",
        "import numpy as np\n",
        "import pydicom\n",
        "import tensorflow as tf\n",
        "from sklearn.model_selection import train_test_split\n",
        "import matplotlib.pyplot as plt\n",
        "\n",
        "print(\"Libraries imported successfully.\")"
      ]
    },
    {
      "cell_type": "code",
      "execution_count": null,
      "metadata": {
        "colab": {
          "base_uri": "https://localhost:8080/"
        },
        "id": "nGMmr5gaKfn4",
        "outputId": "234568be-5da4-446c-f44e-eda8bd75bbc7"
      },
      "outputs": [],
      "source": [
        "def load_dicom_data(root_folder):\n",
        "    dicom_data = []\n",
        "\n",
        "    for root, _, files in os.walk(root_folder):\n",
        "        for file in files:\n",
        "            if file.endswith(\".dcm\"):\n",
        "                file_path = os.path.join(root, file)\n",
        "                dicom = pydicom.dcmread(file_path)\n",
        "                dicom_array = dicom.pixel_array\n",
        "\n",
        "                if len(dicom_data) == 0 or dicom_array.shape == dicom_data[0].shape:\n",
        "                    dicom_data.append(dicom_array)\n",
        "                else:\n",
        "                    print(f\"Ignoring file {file} due to mismatched dimensions.\")\n",
        "\n",
        "    return np.array(dicom_data)\n",
        "\n",
        "data_folder = '/content/drive/MyDrive/Data'\n",
        "dicom_data = load_dicom_data(data_folder)\n",
        "\n",
        "print(f\"Loaded {len(dicom_data)} DICOM files.\")"
      ]
    },
    {
      "cell_type": "code",
      "execution_count": null,
      "metadata": {
        "colab": {
          "base_uri": "https://localhost:8080/"
        },
        "id": "GlBT9BuqOp4q",
        "outputId": "30ad0fef-9235-42e5-cd60-ed456470aa53"
      },
      "outputs": [],
      "source": [
        "labels = np.random.randint(2, size=len(dicom_data))\n",
        "\n",
        "train_data, test_data, train_labels, test_labels = train_test_split(\n",
        "    dicom_data, labels, test_size=0.2, random_state=42\n",
        ")\n",
        "\n",
        "train_data = train_data / 255.0\n",
        "test_data = test_data / 255.0\n",
        "\n",
        "print(\"Data prepared successfully.\")"
      ]
    },
    {
      "cell_type": "code",
      "execution_count": null,
      "metadata": {
        "colab": {
          "base_uri": "https://localhost:8080/"
        },
        "id": "RAWw_zUqPgHv",
        "outputId": "d56ae259-e8bb-4d32-8edd-52ef92395107"
      },
      "outputs": [],
      "source": [
        "print(\"Shape of dicom_data:\", dicom_data.shape)\n",
        "print(\"Shape of train_data:\", train_data.shape)"
      ]
    },
    {
      "cell_type": "code",
      "execution_count": null,
      "metadata": {
        "colab": {
          "base_uri": "https://localhost:8080/"
        },
        "id": "uuVJhDlnhkov",
        "outputId": "780eaad5-4c1e-4718-b629-6da3c4c610ff"
      },
      "outputs": [],
      "source": [
        "model = tf.keras.Sequential([\n",
        "    tf.keras.layers.Flatten(input_shape=(train_data.shape[1], train_data.shape[2])),\n",
        "    tf.keras.layers.Dense(128, activation='relu'),\n",
        "    tf.keras.layers.Dense(1, activation='sigmoid')\n",
        "])\n",
        "\n",
        "print(\"Model built successfully.\")"
      ]
    },
    {
      "cell_type": "code",
      "execution_count": null,
      "metadata": {
        "colab": {
          "base_uri": "https://localhost:8080/"
        },
        "id": "DcgldBElRBHc",
        "outputId": "96700696-3223-4728-c582-739c2be701bc"
      },
      "outputs": [],
      "source": [
        "model.compile(optimizer='adam', loss='binary_crossentropy', metrics=['accuracy'])\n",
        "\n",
        "train_data_tensor = tf.convert_to_tensor(train_data, dtype=tf.float32)\n",
        "train_labels_tensor = tf.convert_to_tensor(train_labels, dtype=tf.float32)\n",
        "test_data_tensor = tf.convert_to_tensor(test_data, dtype=tf.float32)\n",
        "test_labels_tensor = tf.convert_to_tensor(test_labels, dtype=tf.float32)\n",
        "\n",
        "print(\"Data converted to tensors successfully.\")"
      ]
    },
    {
      "cell_type": "code",
      "execution_count": null,
      "metadata": {
        "colab": {
          "base_uri": "https://localhost:8080/"
        },
        "id": "LRnWTIbMiTJg",
        "outputId": "7cb9d1d5-a5d9-494f-892a-9555c0b576b7"
      },
      "outputs": [],
      "source": [
        "num_epochs = 10\n",
        "history = model.fit(train_data_tensor, train_labels_tensor, epochs=num_epochs, validation_data=(test_data_tensor, test_labels_tensor))\n",
        "\n",
        "print(\"Model trained successfully.\")"
      ]
    },
    {
      "cell_type": "code",
      "execution_count": null,
      "metadata": {
        "colab": {
          "base_uri": "https://localhost:8080/",
          "height": 523
        },
        "id": "rkP83fWNh2wm",
        "outputId": "e5052044-3b9c-4391-df42-a5ed00e4e808"
      },
      "outputs": [],
      "source": [
        "plt.figure(figsize=(10, 5))\n",
        "plt.subplot(1, 2, 1)\n",
        "plt.plot(history.history['accuracy'], label='Training Accuracy')\n",
        "plt.plot(history.history['val_accuracy'], label='Validation Accuracy')\n",
        "plt.xlabel('Epoch')\n",
        "plt.ylabel('Accuracy')\n",
        "plt.legend()\n",
        "\n",
        "plt.subplot(1, 2, 2)\n",
        "plt.plot(history.history['loss'], label='Training Loss')\n",
        "plt.plot(history.history['val_loss'], label='Validation Loss')\n",
        "plt.xlabel('Epoch')\n",
        "plt.ylabel('Loss')\n",
        "plt.legend()\n",
        "\n",
        "plt.tight_layout()\n",
        "plt.show()\n",
        "\n",
        "print(\"Results visualized.\")"
      ]
    }
  ],
  "metadata": {
    "colab": {
      "provenance": []
    },
    "kernelspec": {
      "display_name": "Python 3",
      "name": "python3"
    },
    "language_info": {
      "name": "python"
    }
  },
  "nbformat": 4,
  "nbformat_minor": 0
}
